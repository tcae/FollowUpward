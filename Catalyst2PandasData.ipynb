{
 "cells": [
  {
   "cell_type": "code",
   "execution_count": 1,
   "metadata": {},
   "outputs": [
    {
     "name": "stdout",
     "output_type": "stream",
     "text": [
      "Trying to ingest exchange bundle binance...\n",
      "Trying to ingest exchange bundle binance...\n"
     ]
    }
   ],
   "source": [
    "%%bash \n",
    "catalyst ingest-exchange -x binance -i eth_usdt -f minute\n",
    "catalyst ingest-exchange -x binance -i eth_btc -f minute\n"
   ]
  },
  {
   "cell_type": "code",
   "execution_count": 1,
   "metadata": {},
   "outputs": [
    {
     "name": "stdout",
     "output_type": "stream",
     "text": [
      "Trying to ingest exchange bundle binance...\n",
      "Ingesting minute price data on binance\n",
      "Trying to ingest exchange bundle binance...\n",
      "Ingesting minute price data on binance\n",
      "Trying to ingest exchange bundle binance...\n",
      "Ingesting minute price data on binance\n",
      "Trying to ingest exchange bundle binance...\n",
      "Ingesting minute price data on binance\n",
      "Trying to ingest exchange bundle binance...\n",
      "Ingesting minute price data on binance\n",
      "Trying to ingest exchange bundle binance...\n",
      "Ingesting minute price data on binance\n",
      "Trying to ingest exchange bundle binance...\n",
      "Ingesting minute price data on binance\n",
      "Trying to ingest exchange bundle binance...\n",
      "Ingesting minute price data on binance\n",
      "Trying to ingest exchange bundle binance...\n",
      "Ingesting minute price data on binance\n",
      "Trying to ingest exchange bundle binance...\n",
      "Ingesting minute price data on binance\n",
      "Trying to ingest exchange bundle binance...\n",
      "Ingesting minute price data on binance\n",
      "Trying to ingest exchange bundle binance...\n",
      "Ingesting minute price data on binance\n",
      "Trying to ingest exchange bundle binance...\n",
      "Ingesting minute price data on binance\n",
      "Trying to ingest exchange bundle binance...\n",
      "Ingesting minute price data on binance\n",
      "Trying to ingest exchange bundle binance...\n",
      "Ingesting minute price data on binance\n",
      "Trying to ingest exchange bundle binance...\n",
      "Ingesting minute price data on binance\n",
      "Trying to ingest exchange bundle binance...\n",
      "Ingesting minute price data on binance\n",
      "Trying to ingest exchange bundle binance...\n",
      "Ingesting minute price data on binance\n",
      "Trying to ingest exchange bundle binance...\n",
      "Ingesting minute price data on binance\n"
     ]
    }
   ],
   "source": [
    "%%bash \n",
    "catalyst ingest-exchange -x binance -i btc_usdt -f minute\n",
    "catalyst ingest-exchange -x binance -i xrp_usdt -f minute\n",
    "catalyst ingest-exchange -x binance -i eth_usdt -f minute\n",
    "catalyst ingest-exchange -x binance -i bnb_usdt -f minute\n",
    "catalyst ingest-exchange -x binance -i eos_usdt -f minute\n",
    "catalyst ingest-exchange -x binance -i neo_usdt -f minute\n",
    "catalyst ingest-exchange -x binance -i trx_usdt -f minute\n",
    "catalyst ingest-exchange -x binance -i ltc_usdt -f minute\n",
    "catalyst ingest-exchange -x binance -i bat_usdt -f minute\n",
    "catalyst ingest-exchange -x binance -i bch_usdt -f minute\n",
    "\n",
    "catalyst ingest-exchange -x binance -i xrp_btc -f minute\n",
    "catalyst ingest-exchange -x binance -i eth_btc -f minute\n",
    "catalyst ingest-exchange -x binance -i bnb_btc -f minute\n",
    "catalyst ingest-exchange -x binance -i eos_btc -f minute\n",
    "catalyst ingest-exchange -x binance -i neo_btc -f minute\n",
    "catalyst ingest-exchange -x binance -i trx_btc -f minute\n",
    "catalyst ingest-exchange -x binance -i ltc_btc -f minute\n",
    "catalyst ingest-exchange -x binance -i bat_btc -f minute\n",
    "catalyst ingest-exchange -x binance -i bch_btc -f minute\n"
   ]
  },
  {
   "cell_type": "code",
   "execution_count": null,
   "metadata": {},
   "outputs": [],
   "source": [
    "BASES = ['bnb', 'btc', 'eth', 'neo', 'ltc', 'xrp', 'eos', 'trx', 'bch', 'bat']\n"
   ]
  },
  {
   "cell_type": "code",
   "execution_count": null,
   "metadata": {},
   "outputs": [],
   "source": [
    "# start terminal from anaconda/environments/catalyst\n",
    "# in terminal the catalyst environment should be active, which can be checked by conda info --all\n",
    "# jupyter lab work doesn't work as it doesn't switch to the catalyst environment\n",
    "# start jupyter notebook by: jupyter notebook\n",
    "%load_ext catalyst\n",
    "# required to activate catalyst magic words \n",
    "\n",
    "\n",
    "# Setup matplotlib to display graphs inline in this Notebook\n",
    "%matplotlib inline\n"
   ]
  },
  {
   "cell_type": "code",
   "execution_count": null,
   "metadata": {},
   "outputs": [],
   "source": [
    "%load_ext autoreload\n",
    "%autoreload 2\n",
    "%run plot_crypto_classification.py\n"
   ]
  },
  {
   "cell_type": "code",
   "execution_count": null,
   "metadata": {},
   "outputs": [],
   "source": []
  },
  {
   "cell_type": "markdown",
   "metadata": {},
   "source": [
    "# Catalyst Frame\n"
   ]
  },
  {
   "cell_type": "code",
   "execution_count": null,
   "metadata": {},
   "outputs": [],
   "source": [
    "import pytz\n",
    "import pandas as pd\n",
    "from datetime import datetime\n",
    "from plot_crypto_classification import CpcSet, Cpc, PAIR\n",
    "import targets_features as t_f\n",
    "\n",
    "from catalyst.utils.run_algo import run_algorithm\n",
    "from catalyst.protocol import BarData\n",
    "\n",
    "def initialize(context):\n",
    "    context.handle_count = 0\n",
    "    print(\"init\")\n",
    "    context.cpcs = CpcSet(PAIR, t_f.DATA_PATH, '/Users/tc/tf_models/crypto')\n",
    "\n",
    "\n",
    "\n",
    "def handle_data(context, data: BarData):\n",
    "    \n",
    "    if (context.handle_count < 1):\n",
    "        catalyst2picklepandas(context, data)\n",
    "#        feature_normalize(fn)\n",
    "\n",
    "        context.handle_count = context.handle_count + 1\n",
    "    return None\n",
    "        \n",
    "\n",
    "def analyze(context=None, results=None):\n",
    "    pass\n",
    "\n",
    "start = datetime(2018, 12, 18, 0, 0, 0, 0, pytz.utc)\n",
    "# end = datetime(2018, 9, 24, 0, 0, 0, 0, pytz.utc)\n",
    "end = datetime(2018, 12, 18, 0, 0, 0, 0, pytz.utc)\n",
    "results = run_algorithm(initialize=initialize,\n",
    "                        handle_data=handle_data,\n",
    "                        analyze=analyze,\n",
    "                        start=start,\n",
    "                        end=end,\n",
    "                        exchange_name='binance',\n",
    "                        data_frequency='minute',\n",
    "                        quote_currency ='usdt',\n",
    "                        capital_base=10000 )"
   ]
  },
  {
   "cell_type": "markdown",
   "metadata": {},
   "source": [
    "# Unused"
   ]
  },
  {
   "cell_type": "markdown",
   "metadata": {},
   "source": [
    "# To be investigated"
   ]
  },
  {
   "cell_type": "code",
   "execution_count": null,
   "metadata": {},
   "outputs": [],
   "source": []
  }
 ],
 "metadata": {
  "kernelspec": {
   "display_name": "Python 3",
   "language": "python",
   "name": "python3"
  },
  "language_info": {
   "codemirror_mode": {
    "name": "ipython",
    "version": 3
   },
   "file_extension": ".py",
   "mimetype": "text/x-python",
   "name": "python",
   "nbconvert_exporter": "python",
   "pygments_lexer": "ipython3",
   "version": "3.6.7"
  }
 },
 "nbformat": 4,
 "nbformat_minor": 2
}
