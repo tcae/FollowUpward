{
 "cells": [
  {
   "cell_type": "code",
   "execution_count": null,
   "metadata": {},
   "outputs": [],
   "source": [
    "%%bash \n",
    "catalyst ingest-exchange -x binance -i ltc_usdt -f minute\n"
   ]
  },
  {
   "cell_type": "code",
   "execution_count": 1,
   "metadata": {},
   "outputs": [
    {
     "name": "stderr",
     "output_type": "stream",
     "text": [
      "bash: line 1: catalyst: command not found\n",
      "bash: line 2: catalyst: command not found\n",
      "bash: line 3: catalyst: command not found\n",
      "bash: line 4: catalyst: command not found\n",
      "bash: line 5: catalyst: command not found\n",
      "bash: line 6: catalyst: command not found\n",
      "bash: line 7: catalyst: command not found\n",
      "bash: line 8: catalyst: command not found\n",
      "bash: line 9: catalyst: command not found\n",
      "bash: line 10: catalyst: command not found\n",
      "bash: line 12: catalyst: command not found\n",
      "bash: line 13: catalyst: command not found\n",
      "bash: line 14: catalyst: command not found\n",
      "bash: line 15: catalyst: command not found\n",
      "bash: line 16: catalyst: command not found\n",
      "bash: line 17: catalyst: command not found\n",
      "bash: line 18: catalyst: command not found\n",
      "bash: line 19: catalyst: command not found\n",
      "bash: line 20: catalyst: command not found\n"
     ]
    },
    {
     "ename": "CalledProcessError",
     "evalue": "Command 'b'catalyst ingest-exchange -x binance -i btc_usdt -f minute\\ncatalyst ingest-exchange -x binance -i xrp_usdt -f minute\\ncatalyst ingest-exchange -x binance -i eth_usdt -f minute\\ncatalyst ingest-exchange -x binance -i bnb_usdt -f minute\\ncatalyst ingest-exchange -x binance -i eos_usdt -f minute\\ncatalyst ingest-exchange -x binance -i neo_usdt -f minute\\ncatalyst ingest-exchange -x binance -i trx_usdt -f minute\\ncatalyst ingest-exchange -x binance -i ltc_usdt -f minute\\ncatalyst ingest-exchange -x binance -i bat_usdt -f minute\\ncatalyst ingest-exchange -x binance -i bch_usdt -f minute\\n\\ncatalyst ingest-exchange -x binance -i xrp_btc -f minute\\ncatalyst ingest-exchange -x binance -i eth_btc -f minute\\ncatalyst ingest-exchange -x binance -i bnb_btc -f minute\\ncatalyst ingest-exchange -x binance -i eos_btc -f minute\\ncatalyst ingest-exchange -x binance -i neo_btc -f minute\\ncatalyst ingest-exchange -x binance -i trx_btc -f minute\\ncatalyst ingest-exchange -x binance -i ltc_btc -f minute\\ncatalyst ingest-exchange -x binance -i bat_btc -f minute\\ncatalyst ingest-exchange -x binance -i bch_btc -f minute\\n'' returned non-zero exit status 127.",
     "output_type": "error",
     "traceback": [
      "\u001b[0;31m---------------------------------------------------------------------------\u001b[0m",
      "\u001b[0;31mCalledProcessError\u001b[0m                        Traceback (most recent call last)",
      "\u001b[0;32m<ipython-input-1-874d00da8f0b>\u001b[0m in \u001b[0;36m<module>\u001b[0;34m\u001b[0m\n\u001b[0;32m----> 1\u001b[0;31m \u001b[0mget_ipython\u001b[0m\u001b[0;34m(\u001b[0m\u001b[0;34m)\u001b[0m\u001b[0;34m.\u001b[0m\u001b[0mrun_cell_magic\u001b[0m\u001b[0;34m(\u001b[0m\u001b[0;34m'bash'\u001b[0m\u001b[0;34m,\u001b[0m \u001b[0;34m''\u001b[0m\u001b[0;34m,\u001b[0m \u001b[0;34m'catalyst ingest-exchange -x binance -i btc_usdt -f minute\\ncatalyst ingest-exchange -x binance -i xrp_usdt -f minute\\ncatalyst ingest-exchange -x binance -i eth_usdt -f minute\\ncatalyst ingest-exchange -x binance -i bnb_usdt -f minute\\ncatalyst ingest-exchange -x binance -i eos_usdt -f minute\\ncatalyst ingest-exchange -x binance -i neo_usdt -f minute\\ncatalyst ingest-exchange -x binance -i trx_usdt -f minute\\ncatalyst ingest-exchange -x binance -i ltc_usdt -f minute\\ncatalyst ingest-exchange -x binance -i bat_usdt -f minute\\ncatalyst ingest-exchange -x binance -i bch_usdt -f minute\\n\\ncatalyst ingest-exchange -x binance -i xrp_btc -f minute\\ncatalyst ingest-exchange -x binance -i eth_btc -f minute\\ncatalyst ingest-exchange -x binance -i bnb_btc -f minute\\ncatalyst ingest-exchange -x binance -i eos_btc -f minute\\ncatalyst ingest-exchange -x binance -i neo_btc -f minute\\ncatalyst ingest-exchange -x binance -i trx_btc -f minute\\ncatalyst ingest-exchange -x binance -i ltc_btc -f minute\\ncatalyst ingest-exchange -x binance -i bat_btc -f minute\\ncatalyst ingest-exchange -x binance -i bch_btc -f minute\\n'\u001b[0m\u001b[0;34m)\u001b[0m\u001b[0;34m\u001b[0m\u001b[0;34m\u001b[0m\u001b[0m\n\u001b[0m",
      "\u001b[0;32m/anaconda3/envs/scikit/lib/python3.6/site-packages/IPython/core/interactiveshell.py\u001b[0m in \u001b[0;36mrun_cell_magic\u001b[0;34m(self, magic_name, line, cell)\u001b[0m\n\u001b[1;32m   2345\u001b[0m                 \u001b[0mmagic_arg_s\u001b[0m \u001b[0;34m=\u001b[0m \u001b[0mself\u001b[0m\u001b[0;34m.\u001b[0m\u001b[0mvar_expand\u001b[0m\u001b[0;34m(\u001b[0m\u001b[0mline\u001b[0m\u001b[0;34m,\u001b[0m \u001b[0mstack_depth\u001b[0m\u001b[0;34m)\u001b[0m\u001b[0;34m\u001b[0m\u001b[0;34m\u001b[0m\u001b[0m\n\u001b[1;32m   2346\u001b[0m             \u001b[0;32mwith\u001b[0m \u001b[0mself\u001b[0m\u001b[0;34m.\u001b[0m\u001b[0mbuiltin_trap\u001b[0m\u001b[0;34m:\u001b[0m\u001b[0;34m\u001b[0m\u001b[0;34m\u001b[0m\u001b[0m\n\u001b[0;32m-> 2347\u001b[0;31m                 \u001b[0mresult\u001b[0m \u001b[0;34m=\u001b[0m \u001b[0mfn\u001b[0m\u001b[0;34m(\u001b[0m\u001b[0mmagic_arg_s\u001b[0m\u001b[0;34m,\u001b[0m \u001b[0mcell\u001b[0m\u001b[0;34m)\u001b[0m\u001b[0;34m\u001b[0m\u001b[0;34m\u001b[0m\u001b[0m\n\u001b[0m\u001b[1;32m   2348\u001b[0m             \u001b[0;32mreturn\u001b[0m \u001b[0mresult\u001b[0m\u001b[0;34m\u001b[0m\u001b[0;34m\u001b[0m\u001b[0m\n\u001b[1;32m   2349\u001b[0m \u001b[0;34m\u001b[0m\u001b[0m\n",
      "\u001b[0;32m/anaconda3/envs/scikit/lib/python3.6/site-packages/IPython/core/magics/script.py\u001b[0m in \u001b[0;36mnamed_script_magic\u001b[0;34m(line, cell)\u001b[0m\n\u001b[1;32m    140\u001b[0m             \u001b[0;32melse\u001b[0m\u001b[0;34m:\u001b[0m\u001b[0;34m\u001b[0m\u001b[0;34m\u001b[0m\u001b[0m\n\u001b[1;32m    141\u001b[0m                 \u001b[0mline\u001b[0m \u001b[0;34m=\u001b[0m \u001b[0mscript\u001b[0m\u001b[0;34m\u001b[0m\u001b[0;34m\u001b[0m\u001b[0m\n\u001b[0;32m--> 142\u001b[0;31m             \u001b[0;32mreturn\u001b[0m \u001b[0mself\u001b[0m\u001b[0;34m.\u001b[0m\u001b[0mshebang\u001b[0m\u001b[0;34m(\u001b[0m\u001b[0mline\u001b[0m\u001b[0;34m,\u001b[0m \u001b[0mcell\u001b[0m\u001b[0;34m)\u001b[0m\u001b[0;34m\u001b[0m\u001b[0;34m\u001b[0m\u001b[0m\n\u001b[0m\u001b[1;32m    143\u001b[0m \u001b[0;34m\u001b[0m\u001b[0m\n\u001b[1;32m    144\u001b[0m         \u001b[0;31m# write a basic docstring:\u001b[0m\u001b[0;34m\u001b[0m\u001b[0;34m\u001b[0m\u001b[0;34m\u001b[0m\u001b[0m\n",
      "\u001b[0;32m</anaconda3/envs/scikit/lib/python3.6/site-packages/decorator.py:decorator-gen-110>\u001b[0m in \u001b[0;36mshebang\u001b[0;34m(self, line, cell)\u001b[0m\n",
      "\u001b[0;32m/anaconda3/envs/scikit/lib/python3.6/site-packages/IPython/core/magic.py\u001b[0m in \u001b[0;36m<lambda>\u001b[0;34m(f, *a, **k)\u001b[0m\n\u001b[1;32m    185\u001b[0m     \u001b[0;31m# but it's overkill for just that one bit of state.\u001b[0m\u001b[0;34m\u001b[0m\u001b[0;34m\u001b[0m\u001b[0;34m\u001b[0m\u001b[0m\n\u001b[1;32m    186\u001b[0m     \u001b[0;32mdef\u001b[0m \u001b[0mmagic_deco\u001b[0m\u001b[0;34m(\u001b[0m\u001b[0marg\u001b[0m\u001b[0;34m)\u001b[0m\u001b[0;34m:\u001b[0m\u001b[0;34m\u001b[0m\u001b[0;34m\u001b[0m\u001b[0m\n\u001b[0;32m--> 187\u001b[0;31m         \u001b[0mcall\u001b[0m \u001b[0;34m=\u001b[0m \u001b[0;32mlambda\u001b[0m \u001b[0mf\u001b[0m\u001b[0;34m,\u001b[0m \u001b[0;34m*\u001b[0m\u001b[0ma\u001b[0m\u001b[0;34m,\u001b[0m \u001b[0;34m**\u001b[0m\u001b[0mk\u001b[0m\u001b[0;34m:\u001b[0m \u001b[0mf\u001b[0m\u001b[0;34m(\u001b[0m\u001b[0;34m*\u001b[0m\u001b[0ma\u001b[0m\u001b[0;34m,\u001b[0m \u001b[0;34m**\u001b[0m\u001b[0mk\u001b[0m\u001b[0;34m)\u001b[0m\u001b[0;34m\u001b[0m\u001b[0;34m\u001b[0m\u001b[0m\n\u001b[0m\u001b[1;32m    188\u001b[0m \u001b[0;34m\u001b[0m\u001b[0m\n\u001b[1;32m    189\u001b[0m         \u001b[0;32mif\u001b[0m \u001b[0mcallable\u001b[0m\u001b[0;34m(\u001b[0m\u001b[0marg\u001b[0m\u001b[0;34m)\u001b[0m\u001b[0;34m:\u001b[0m\u001b[0;34m\u001b[0m\u001b[0;34m\u001b[0m\u001b[0m\n",
      "\u001b[0;32m/anaconda3/envs/scikit/lib/python3.6/site-packages/IPython/core/magics/script.py\u001b[0m in \u001b[0;36mshebang\u001b[0;34m(self, line, cell)\u001b[0m\n\u001b[1;32m    243\u001b[0m             \u001b[0msys\u001b[0m\u001b[0;34m.\u001b[0m\u001b[0mstderr\u001b[0m\u001b[0;34m.\u001b[0m\u001b[0mflush\u001b[0m\u001b[0;34m(\u001b[0m\u001b[0;34m)\u001b[0m\u001b[0;34m\u001b[0m\u001b[0;34m\u001b[0m\u001b[0m\n\u001b[1;32m    244\u001b[0m         \u001b[0;32mif\u001b[0m \u001b[0margs\u001b[0m\u001b[0;34m.\u001b[0m\u001b[0mraise_error\u001b[0m \u001b[0;32mand\u001b[0m \u001b[0mp\u001b[0m\u001b[0;34m.\u001b[0m\u001b[0mreturncode\u001b[0m\u001b[0;34m!=\u001b[0m\u001b[0;36m0\u001b[0m\u001b[0;34m:\u001b[0m\u001b[0;34m\u001b[0m\u001b[0;34m\u001b[0m\u001b[0m\n\u001b[0;32m--> 245\u001b[0;31m             \u001b[0;32mraise\u001b[0m \u001b[0mCalledProcessError\u001b[0m\u001b[0;34m(\u001b[0m\u001b[0mp\u001b[0m\u001b[0;34m.\u001b[0m\u001b[0mreturncode\u001b[0m\u001b[0;34m,\u001b[0m \u001b[0mcell\u001b[0m\u001b[0;34m,\u001b[0m \u001b[0moutput\u001b[0m\u001b[0;34m=\u001b[0m\u001b[0mout\u001b[0m\u001b[0;34m,\u001b[0m \u001b[0mstderr\u001b[0m\u001b[0;34m=\u001b[0m\u001b[0merr\u001b[0m\u001b[0;34m)\u001b[0m\u001b[0;34m\u001b[0m\u001b[0;34m\u001b[0m\u001b[0m\n\u001b[0m\u001b[1;32m    246\u001b[0m \u001b[0;34m\u001b[0m\u001b[0m\n\u001b[1;32m    247\u001b[0m     \u001b[0;32mdef\u001b[0m \u001b[0m_run_script\u001b[0m\u001b[0;34m(\u001b[0m\u001b[0mself\u001b[0m\u001b[0;34m,\u001b[0m \u001b[0mp\u001b[0m\u001b[0;34m,\u001b[0m \u001b[0mcell\u001b[0m\u001b[0;34m,\u001b[0m \u001b[0mto_close\u001b[0m\u001b[0;34m)\u001b[0m\u001b[0;34m:\u001b[0m\u001b[0;34m\u001b[0m\u001b[0;34m\u001b[0m\u001b[0m\n",
      "\u001b[0;31mCalledProcessError\u001b[0m: Command 'b'catalyst ingest-exchange -x binance -i btc_usdt -f minute\\ncatalyst ingest-exchange -x binance -i xrp_usdt -f minute\\ncatalyst ingest-exchange -x binance -i eth_usdt -f minute\\ncatalyst ingest-exchange -x binance -i bnb_usdt -f minute\\ncatalyst ingest-exchange -x binance -i eos_usdt -f minute\\ncatalyst ingest-exchange -x binance -i neo_usdt -f minute\\ncatalyst ingest-exchange -x binance -i trx_usdt -f minute\\ncatalyst ingest-exchange -x binance -i ltc_usdt -f minute\\ncatalyst ingest-exchange -x binance -i bat_usdt -f minute\\ncatalyst ingest-exchange -x binance -i bch_usdt -f minute\\n\\ncatalyst ingest-exchange -x binance -i xrp_btc -f minute\\ncatalyst ingest-exchange -x binance -i eth_btc -f minute\\ncatalyst ingest-exchange -x binance -i bnb_btc -f minute\\ncatalyst ingest-exchange -x binance -i eos_btc -f minute\\ncatalyst ingest-exchange -x binance -i neo_btc -f minute\\ncatalyst ingest-exchange -x binance -i trx_btc -f minute\\ncatalyst ingest-exchange -x binance -i ltc_btc -f minute\\ncatalyst ingest-exchange -x binance -i bat_btc -f minute\\ncatalyst ingest-exchange -x binance -i bch_btc -f minute\\n'' returned non-zero exit status 127."
     ]
    }
   ],
   "source": [
    "%%bash \n",
    "catalyst ingest-exchange -x binance -i btc_usdt -f minute\n",
    "catalyst ingest-exchange -x binance -i xrp_usdt -f minute\n",
    "catalyst ingest-exchange -x binance -i eth_usdt -f minute\n",
    "catalyst ingest-exchange -x binance -i bnb_usdt -f minute\n",
    "catalyst ingest-exchange -x binance -i eos_usdt -f minute\n",
    "catalyst ingest-exchange -x binance -i neo_usdt -f minute\n",
    "catalyst ingest-exchange -x binance -i trx_usdt -f minute\n",
    "catalyst ingest-exchange -x binance -i ltc_usdt -f minute\n",
    "catalyst ingest-exchange -x binance -i bat_usdt -f minute\n",
    "catalyst ingest-exchange -x binance -i bch_usdt -f minute\n",
    "\n",
    "catalyst ingest-exchange -x binance -i xrp_btc -f minute\n",
    "catalyst ingest-exchange -x binance -i eth_btc -f minute\n",
    "catalyst ingest-exchange -x binance -i bnb_btc -f minute\n",
    "catalyst ingest-exchange -x binance -i eos_btc -f minute\n",
    "catalyst ingest-exchange -x binance -i neo_btc -f minute\n",
    "catalyst ingest-exchange -x binance -i trx_btc -f minute\n",
    "catalyst ingest-exchange -x binance -i ltc_btc -f minute\n",
    "catalyst ingest-exchange -x binance -i bat_btc -f minute\n",
    "catalyst ingest-exchange -x binance -i bch_btc -f minute\n"
   ]
  },
  {
   "cell_type": "code",
   "execution_count": null,
   "metadata": {},
   "outputs": [],
   "source": [
    "BASES = ['bnb', 'btc', 'eth', 'neo', 'ltc', 'xrp', 'eos', 'trx', 'bch', 'bat']\n"
   ]
  },
  {
   "cell_type": "code",
   "execution_count": null,
   "metadata": {},
   "outputs": [],
   "source": [
    "# start terminal from anaconda/environments/catalyst\n",
    "# in terminal the catalyst environment should be active, which can be checked by conda info --all\n",
    "# jupyter lab work doesn't work as it doesn't switch to the catalyst environment\n",
    "# start jupyter notebook by: jupyter notebook\n",
    "%load_ext catalyst\n",
    "# required to activate catalyst magic words \n",
    "\n",
    "\n",
    "# Setup matplotlib to display graphs inline in this Notebook\n",
    "%matplotlib inline\n"
   ]
  },
  {
   "cell_type": "code",
   "execution_count": null,
   "metadata": {},
   "outputs": [],
   "source": [
    "%load_ext autoreload\n",
    "%autoreload 2\n",
    "%run plot_crypto_classification.py\n"
   ]
  },
  {
   "cell_type": "code",
   "execution_count": null,
   "metadata": {},
   "outputs": [],
   "source": []
  },
  {
   "cell_type": "markdown",
   "metadata": {},
   "source": [
    "# Catalyst Frame\n"
   ]
  },
  {
   "cell_type": "code",
   "execution_count": null,
   "metadata": {},
   "outputs": [],
   "source": [
    "import pytz\n",
    "import pandas as pd\n",
    "from datetime import datetime\n",
    "from plot_crypto_classification import CpcSet, Cpc, PAIR\n",
    "import targets_features as t_f\n",
    "\n",
    "from catalyst.utils.run_algo import run_algorithm\n",
    "from catalyst.protocol import BarData\n",
    "\n",
    "def initialize(context):\n",
    "    context.handle_count = 0\n",
    "    print(\"init\")\n",
    "    context.cpcs = CpcSet(PAIR, t_f.DATA_PATH, '/Users/tc/tf_models/crypto')\n",
    "\n",
    "\n",
    "\n",
    "def handle_data(context, data: BarData):\n",
    "    \n",
    "    if (context.handle_count < 1):\n",
    "        catalyst2picklepandas(context, data)\n",
    "#        feature_normalize(fn)\n",
    "\n",
    "        context.handle_count = context.handle_count + 1\n",
    "    return None\n",
    "        \n",
    "\n",
    "def analyze(context=None, results=None):\n",
    "    pass\n",
    "\n",
    "start = datetime(2018, 12, 18, 0, 0, 0, 0, pytz.utc)\n",
    "# end = datetime(2018, 9, 24, 0, 0, 0, 0, pytz.utc)\n",
    "end = datetime(2018, 12, 18, 0, 0, 0, 0, pytz.utc)\n",
    "results = run_algorithm(initialize=initialize,\n",
    "                        handle_data=handle_data,\n",
    "                        analyze=analyze,\n",
    "                        start=start,\n",
    "                        end=end,\n",
    "                        exchange_name='binance',\n",
    "                        data_frequency='minute',\n",
    "                        quote_currency ='usdt',\n",
    "                        capital_base=10000 )"
   ]
  },
  {
   "cell_type": "markdown",
   "metadata": {},
   "source": [
    "# Unused"
   ]
  },
  {
   "cell_type": "markdown",
   "metadata": {},
   "source": [
    "# To be investigated"
   ]
  },
  {
   "cell_type": "code",
   "execution_count": null,
   "metadata": {},
   "outputs": [],
   "source": []
  }
 ],
 "metadata": {
  "kernelspec": {
   "display_name": "Python 3",
   "language": "python",
   "name": "python3"
  },
  "language_info": {
   "codemirror_mode": {
    "name": "ipython",
    "version": 3
   },
   "file_extension": ".py",
   "mimetype": "text/x-python",
   "name": "python",
   "nbconvert_exporter": "python",
   "pygments_lexer": "ipython3",
   "version": "3.6.7"
  }
 },
 "nbformat": 4,
 "nbformat_minor": 2
}
