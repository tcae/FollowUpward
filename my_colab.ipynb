{
 "cells": [
  {
   "cell_type": "markdown",
   "metadata": {
    "colab_type": "text",
    "id": "view-in-github"
   },
   "source": [
    "<a href=\"https://colab.research.google.com/github/tcae/FollowUpward/blob/master/my_colab.ipynb\" target=\"_parent\"><img src=\"https://colab.research.google.com/assets/colab-badge.svg\" alt=\"Open In Colab\"/></a>"
   ]
  },
  {
   "cell_type": "code",
   "execution_count": 4,
   "metadata": {
    "colab": {
     "base_uri": "https://localhost:8080/",
     "height": 2645
    },
    "colab_type": "code",
    "id": "3TCS1qoRvt_D",
    "outputId": "616b4854-b774-4da2-cff6-2fa94cad19bf"
   },
   "outputs": [
    {
     "name": "stdout",
     "output_type": "stream",
     "text": [
      "/content/FollowUpward\n",
      "2019-03-03 19:58:07.118737: processing xrp_usdt\n",
      "2019-03-03 19:58:07.119169: read tf vectors with 430560 tics x 6 aggregations from /content/gdrive/My Drive/Features/xrp_usdt.msg\n"
     ]
    },
    {
     "name": "stderr",
     "output_type": "stream",
     "text": [
      "/content/FollowUpward/targets_features.py:647: SettingWithCopyWarning: \n",
      "A value is trying to be set on a copy of a slice from a DataFrame\n",
      "\n",
      "See the caveats in the documentation: http://pandas.pydata.org/pandas-docs/stable/indexing.html#indexing-view-versus-copy\n",
      "  train_df.drop(['select'], axis = 1, inplace = True)\n",
      "/content/FollowUpward/targets_features.py:648: SettingWithCopyWarning: \n",
      "A value is trying to be set on a copy of a slice from a DataFrame\n",
      "\n",
      "See the caveats in the documentation: http://pandas.pydata.org/pandas-docs/stable/indexing.html#indexing-view-versus-copy\n",
      "  val_df.drop(['select'], axis = 1, inplace = True)\n",
      "/content/FollowUpward/targets_features.py:649: SettingWithCopyWarning: \n",
      "A value is trying to be set on a copy of a slice from a DataFrame\n",
      "\n",
      "See the caveats in the documentation: http://pandas.pydata.org/pandas-docs/stable/indexing.html#indexing-view-versus-copy\n",
      "  test_df.drop(['select'], axis = 1, inplace = True)\n"
     ]
    },
    {
     "name": "stdout",
     "output_type": "stream",
     "text": [
      "        close     buy    sell  1T_0_D  1T_0_H  1T_0_T  1T_0_B  1T_0_V  1T_1_D  \\\n",
      "count 69220.0 69220.0 69220.0 69220.0 69220.0 69220.0 69220.0 69220.0 69220.0   \n",
      "mean      0.5     0.0     0.4    -0.0     2.0     0.4     0.5     0.7     0.1   \n",
      "std       0.1     0.1     0.5     2.0     2.4     0.9     1.0     3.1     2.0   \n",
      "min       0.2     0.0     0.0   -60.2     0.0     0.0     0.0    -1.0   -51.5   \n",
      "25%       0.4     0.0     0.0    -0.7     0.7     0.0     0.0    -0.5    -0.6   \n",
      "50%       0.5     0.0     0.0     0.0     1.3     0.0     0.0     0.0     0.0   \n",
      "75%       0.6     0.0     1.0     0.6     2.4     0.6     0.6     0.8     0.7   \n",
      "max       0.9     1.0     1.0    37.4   121.0    40.8    54.3   142.5    50.4   \n",
      "\n",
      "       1T_1_H   ...    1T_8_D  1T_8_H  1T_8_T  1T_8_B  1T_8_V  1T_9_D  1T_9_H  \\\n",
      "count 69220.0   ...   69220.0 69220.0 69220.0 69220.0 69220.0 69220.0 69220.0   \n",
      "mean      1.9   ...      -0.0     1.9     0.4     0.5     0.7     0.0     1.9   \n",
      "std       2.4   ...       1.9     2.3     0.9     1.0     3.0     1.9     2.3   \n",
      "min       0.0   ...     -63.3     0.0     0.0     0.0    -1.0   -60.2     0.0   \n",
      "25%       0.7   ...      -0.7     0.7     0.0     0.0    -0.5    -0.6     0.7   \n",
      "50%       1.3   ...       0.0     1.3     0.0     0.0     0.0     0.0     1.3   \n",
      "75%       2.4   ...       0.6     2.4     0.6     0.6     0.8     0.7     2.4   \n",
      "max     104.2   ...      50.4   116.4    41.4    44.6   128.4    36.2   121.0   \n",
      "\n",
      "       1T_9_T  1T_9_B  1T_9_V  \n",
      "count 69220.0 69220.0 69220.0  \n",
      "mean      0.4     0.5     0.7  \n",
      "std       1.0     1.0     3.0  \n",
      "min       0.0     0.0    -1.0  \n",
      "25%       0.0     0.0    -0.5  \n",
      "50%       0.0     0.0     0.0  \n",
      "75%       0.6     0.6     0.8  \n",
      "max     102.8    54.3    93.1  \n",
      "\n",
      "[8 rows x 53 columns]\n",
      "        close     buy    sell  1T_0_D  1T_0_H  1T_0_T  1T_0_B  1T_0_V  1T_1_D  \\\n",
      "count 21307.0 21307.0 21307.0 21307.0 21307.0 21307.0 21307.0 21307.0 21307.0   \n",
      "mean      0.4     0.0     0.5    -0.0     2.4     0.6     0.6     0.9     0.1   \n",
      "std       0.1     0.1     0.5     2.0     2.3     1.0     0.9     3.2     2.0   \n",
      "min       0.3     0.0     0.0   -25.8     0.0     0.0     0.0    -1.0   -21.4   \n",
      "25%       0.3     0.0     0.0    -0.8     1.0     0.0     0.0    -0.4    -0.7   \n",
      "50%       0.4     0.0     0.0     0.0     1.7     0.3     0.3     0.0     0.0   \n",
      "75%       0.5     0.0     1.0     0.7     2.9     0.8     0.8     1.0     0.8   \n",
      "max       0.6     1.0     1.0    26.9    64.9    55.3    24.1   100.7    26.9   \n",
      "\n",
      "       1T_1_H   ...    1T_8_D  1T_8_H  1T_8_T  1T_8_B  1T_8_V  1T_9_D  1T_9_H  \\\n",
      "count 21307.0   ...   21307.0 21307.0 21307.0 21307.0 21307.0 21307.0 21307.0   \n",
      "mean      2.4   ...      -0.1     2.3     0.6     0.6     0.9     0.0     2.3   \n",
      "std       2.3   ...       1.9     2.2     0.9     0.9     3.0     1.9     2.3   \n",
      "min       0.0   ...     -25.8     0.0     0.0     0.0    -1.0   -25.8     0.0   \n",
      "25%       1.0   ...      -0.8     1.0     0.0     0.0    -0.4    -0.7     1.0   \n",
      "50%       1.7   ...       0.0     1.7     0.3     0.3    -0.0     0.0     1.7   \n",
      "75%       2.9   ...       0.7     2.9     0.8     0.8     0.9     0.7     2.9   \n",
      "max      39.5   ...      26.9    39.3    23.2    35.2    76.9    26.3    64.9   \n",
      "\n",
      "       1T_9_T  1T_9_B  1T_9_V  \n",
      "count 21307.0 21307.0 21307.0  \n",
      "mean      0.6     0.6     0.9  \n",
      "std       1.0     0.9     3.3  \n",
      "min       0.0     0.0    -1.0  \n",
      "25%       0.0     0.0    -0.4  \n",
      "50%       0.3     0.3    -0.0  \n",
      "75%       0.8     0.8     0.9  \n",
      "max      55.3    26.3   126.6  \n",
      "\n",
      "[8 rows x 53 columns]\n",
      "        close     buy    sell  1T_0_D  1T_0_H  1T_0_T  1T_0_B  1T_0_V  1T_1_D  \\\n",
      "count 21810.0 21810.0 21810.0 21810.0 21810.0 21810.0 21810.0 21810.0 21810.0   \n",
      "mean      0.3     0.0     0.5     0.0     1.2     0.3     0.3     1.1     0.0   \n",
      "std       0.0     0.1     0.5     1.1     1.4     0.5     0.6     5.1     1.0   \n",
      "min       0.3     0.0     0.0   -15.6     0.0     0.0     0.0    -1.0   -22.7   \n",
      "25%       0.3     0.0     0.0    -0.3     0.6     0.0     0.0    -0.5    -0.3   \n",
      "50%       0.3     0.0     0.0     0.0     0.8     0.2     0.2    -0.0     0.0   \n",
      "75%       0.3     0.0     1.0     0.4     1.3     0.4     0.4     1.0     0.3   \n",
      "max       0.4     1.0     1.0    19.0    64.8    30.9    56.2   335.4    22.0   \n",
      "\n",
      "       1T_1_H   ...    1T_8_D  1T_8_H  1T_8_T  1T_8_B  1T_8_V  1T_9_D  1T_9_H  \\\n",
      "count 21810.0   ...   21810.0 21810.0 21810.0 21810.0 21810.0 21810.0 21810.0   \n",
      "mean      1.2   ...      -0.0     1.1     0.3     0.3     1.1     0.0     1.1   \n",
      "std       1.3   ...       1.0     1.3     0.4     0.6     4.9     1.0     1.2   \n",
      "min       0.0   ...     -15.6     0.0     0.0     0.0    -1.0   -22.7     0.0   \n",
      "25%       0.6   ...      -0.3     0.6     0.0     0.0    -0.5    -0.3     0.6   \n",
      "50%       0.8   ...       0.0     0.8     0.2     0.2    -0.0     0.0     0.8   \n",
      "75%       1.3   ...       0.3     1.3     0.4     0.4     1.0     0.3     1.3   \n",
      "max      32.7   ...      19.2    64.8     9.3    56.2   335.4    22.0    32.7   \n",
      "\n",
      "       1T_9_T  1T_9_B  1T_9_V  \n",
      "count 21810.0 21810.0 21810.0  \n",
      "mean      0.3     0.3     1.1  \n",
      "std       0.4     0.5     4.5  \n",
      "min       0.0     0.0    -1.0  \n",
      "25%       0.0     0.0    -0.5  \n",
      "50%       0.2     0.2    -0.0  \n",
      "75%       0.4     0.4     1.0  \n",
      "max      22.1    18.6   209.4  \n",
      "\n",
      "[8 rows x 53 columns]\n",
      "\n",
      "WARNING: The TensorFlow contrib module will not be included in TensorFlow 2.0.\n",
      "For more information, please see:\n",
      "  * https://github.com/tensorflow/community/blob/master/rfcs/20180907-contrib-sunset.md\n",
      "  * https://github.com/tensorflow/addons\n",
      "If you depend on functionality not listed there, please file an issue.\n",
      "\n",
      "model directory: /content/gdrive/My Drive/tf_models/crypto\n",
      "Training model...\n",
      "LogLoss (on training data):\n",
      "  period 00 : 0.68\n",
      "  period 01 : 0.68\n",
      "  period 02 : 0.67\n",
      "  period 03 : 0.67\n",
      "  period 04 : 0.67\n",
      "  period 05 : 0.66\n",
      "  period 06 : 0.66\n",
      "  period 07 : 0.66\n",
      "  period 08 : 0.65\n",
      "  period 09 : 0.65\n",
      "Model training finished.\n"
     ]
    },
    {
     "data": {
      "image/png": "[encoded data removed]",
      "text/plain": [
       "<Figure size 576x396 with 1 Axes>"
      ]
     },
     "metadata": {
      "tags": []
     },
     "output_type": "display_data"
    }
   ],
   "source": [
    "%cd /content/FollowUpward\n",
    "import cpc_classifier as cpc\n",
    "cpc.execute()"
   ]
  },
  {
   "cell_type": "code",
   "execution_count": 3,
   "metadata": {
    "colab": {
     "base_uri": "https://localhost:8080/",
     "height": 204
    },
    "colab_type": "code",
    "id": "yZYewdL0m2qT",
    "outputId": "77d13337-9ccf-4b37-8955-d9b171ef2784"
   },
   "outputs": [
    {
     "name": "stdout",
     "output_type": "stream",
     "text": [
      "/content\n",
      "/content\n",
      "rm: cannot remove 'FollowUpward': No such file or directory\n",
      "Cloning into 'FollowUpward'...\n",
      "remote: Enumerating objects: 173, done.\u001b[K\n",
      "remote: Counting objects: 100% (173/173), done.\u001b[K\n",
      "remote: Compressing objects: 100% (124/124), done.\u001b[K\n",
      "remote: Total 173 (delta 103), reused 101 (delta 48), pack-reused 0\u001b[K\n",
      "Receiving objects: 100% (173/173), 14.08 MiB | 25.35 MiB/s, done.\n",
      "Resolving deltas: 100% (103/103), done.\n",
      "/content/FollowUpward\n"
     ]
    }
   ],
   "source": [
    "%cd /content\n",
    "!pwd\n",
    "!rm -R FollowUpward\n",
    "!git clone https://github.com/tcae/FollowUpward.git\n",
    "%cd /content/FollowUpward"
   ]
  },
  {
   "cell_type": "code",
   "execution_count": 2,
   "metadata": {
    "colab": {
     "base_uri": "https://localhost:8080/"
    },
    "colab_type": "code",
    "id": "kqU8Fr7bnA0e",
    "outputId": "57f27b2a-4ac1-4708-d5c4-20108323d036"
   },
   "outputs": [
    {
     "data": {
      "text/plain": [
       "'/env/python'"
      ]
     },
     "execution_count": 2,
     "metadata": {
      "tags": []
     },
     "output_type": "execute_result"
    }
   ],
   "source": [
    "%env PYTHONPATH\n"
   ]
  },
  {
   "cell_type": "code",
   "execution_count": 3,
   "metadata": {
    "colab": {
     "base_uri": "https://localhost:8080/",
     "height": 34
    },
    "colab_type": "code",
    "id": "6gwbDvUPnH4v",
    "outputId": "bf9ba8bf-5821-410d-efa5-6f8f86179121"
   },
   "outputs": [
    {
     "name": "stdout",
     "output_type": "stream",
     "text": [
      "env: PYTHONPATH=/env/python:/content/FollowUpward\n"
     ]
    }
   ],
   "source": [
    "%env PYTHONPATH /env/python:/content/FollowUpward\n"
   ]
  },
  {
   "cell_type": "code",
   "execution_count": 2,
   "metadata": {
    "colab": {
     "base_uri": "https://localhost:8080/",
     "height": 238
    },
    "colab_type": "code",
    "id": "u0Y7CZs8nYcL",
    "outputId": "fec5b53c-270f-4667-dab7-97a4895b0ff2"
   },
   "outputs": [
    {
     "name": "stdout",
     "output_type": "stream",
     "text": [
      "/content:\n",
      "total 4\n",
      "drwxr-xr-x 1 root root 4096 Feb 26 17:33 sample_data\n",
      "\n",
      "/content/sample_data:\n",
      "total 55504\n",
      "-r-xr-xr-x 1 root root     1697 Jan  1  2000 anscombe.json\n",
      "-rw-r--r-- 1 root root   301141 Feb 26 17:33 california_housing_test.csv\n",
      "-rw-r--r-- 1 root root  1706430 Feb 26 17:33 california_housing_train.csv\n",
      "-rw-r--r-- 1 root root 18289443 Feb 26 17:33 mnist_test.csv\n",
      "-rw-r--r-- 1 root root 36523880 Feb 26 17:33 mnist_train_small.csv\n",
      "-r-xr-xr-x 1 root root      903 Jan  1  2000 README.md\n",
      "/content\n"
     ]
    }
   ],
   "source": [
    "!ls /content -lR\n",
    "\n",
    "!pwd"
   ]
  },
  {
   "cell_type": "code",
   "execution_count": 1,
   "metadata": {
    "colab": {
     "base_uri": "https://localhost:8080/",
     "height": 122
    },
    "colab_type": "code",
    "id": "Dbn0dt8_tfqG",
    "outputId": "38deb556-c9f4-4582-d7b8-1e60163abbb1"
   },
   "outputs": [
    {
     "name": "stdout",
     "output_type": "stream",
     "text": [
      "Go to this URL in a browser: https://accounts.google.com/o/oauth2/auth?client_id=947318989803-6bn6qk8qdgf4n4g3pfee6491hc0brc4i.apps.googleusercontent.com&redirect_uri=urn%3Aietf%3Awg%3Aoauth%3A2.0%3Aoob&scope=email%20https%3A%2F%2Fwww.googleapis.com%2Fauth%2Fdocs.test%20https%3A%2F%2Fwww.googleapis.com%2Fauth%2Fdrive%20https%3A%2F%2Fwww.googleapis.com%2Fauth%2Fdrive.photos.readonly%20https%3A%2F%2Fwww.googleapis.com%2Fauth%2Fpeopleapi.readonly&response_type=code\n",
      "\n",
      "Enter your authorization code:\n",
      "··········\n",
      "Mounted at /content/gdrive\n"
     ]
    }
   ],
   "source": [
    "from google.colab import drive\n",
    "drive.mount('/content/gdrive')"
   ]
  },
  {
   "cell_type": "code",
   "execution_count": 0,
   "metadata": {
    "colab": {},
    "colab_type": "code",
    "id": "RaH9HaKI1P78"
   },
   "outputs": [],
   "source": []
  },
  {
   "cell_type": "markdown",
   "metadata": {
    "colab_type": "text",
    "id": "_pQCOmISAQBu"
   },
   "source": [
    "# Testing out the TPU connection\n",
    "\n",
    "First, you'll need to enable TPUs for the notebook.\n",
    "\n",
    "Navigate to Edit→Notebook Settings, and select TPU from the Hardware Accelerator drop-down (you can also access Notebook Settings via the command palette: cmd/ctrl-shift-P).\n",
    "\n",
    "Next, we'll check that we can connect to the TPU.\n",
    "If the cell below reports an error, make sure that you have enabled TPU support in the notebook settings. (Edit menu → Notebook settings)"
   ]
  },
  {
   "cell_type": "code",
   "execution_count": 2,
   "metadata": {
    "colab": {
     "base_uri": "https://localhost:8080/",
     "height": 238
    },
    "colab_type": "code",
    "id": "71iSWtsXe36x",
    "outputId": "b0642cb7-9150-4d43-8b9c-3c1a412b1cd3"
   },
   "outputs": [
    {
     "name": "stdout",
     "output_type": "stream",
     "text": [
      "TPU address is grpc://10.59.9.154:8470\n",
      "TPU devices:\n",
      "[_DeviceAttributes(/job:tpu_worker/replica:0/task:0/device:CPU:0, CPU, -1, 1044571512553099093),\n",
      " _DeviceAttributes(/job:tpu_worker/replica:0/task:0/device:XLA_CPU:0, XLA_CPU, 17179869184, 4230234918147155992),\n",
      " _DeviceAttributes(/job:tpu_worker/replica:0/task:0/device:TPU:0, TPU, 17179869184, 5709587694617190853),\n",
      " _DeviceAttributes(/job:tpu_worker/replica:0/task:0/device:TPU:1, TPU, 17179869184, 9591291957877853135),\n",
      " _DeviceAttributes(/job:tpu_worker/replica:0/task:0/device:TPU:2, TPU, 17179869184, 7091989025287012426),\n",
      " _DeviceAttributes(/job:tpu_worker/replica:0/task:0/device:TPU:3, TPU, 17179869184, 8250445708567582566),\n",
      " _DeviceAttributes(/job:tpu_worker/replica:0/task:0/device:TPU:4, TPU, 17179869184, 7120799524025354951),\n",
      " _DeviceAttributes(/job:tpu_worker/replica:0/task:0/device:TPU:5, TPU, 17179869184, 5720566810794468556),\n",
      " _DeviceAttributes(/job:tpu_worker/replica:0/task:0/device:TPU:6, TPU, 17179869184, 9380601004415739362),\n",
      " _DeviceAttributes(/job:tpu_worker/replica:0/task:0/device:TPU:7, TPU, 17179869184, 16530744479161744639),\n",
      " _DeviceAttributes(/job:tpu_worker/replica:0/task:0/device:TPU_SYSTEM:0, TPU_SYSTEM, 17179869184, 15166689215152105151)]\n"
     ]
    }
   ],
   "source": [
    "import os\n",
    "import pprint\n",
    "import tensorflow as tf\n",
    "\n",
    "if 'COLAB_TPU_ADDR' not in os.environ:\n",
    "  print('ERROR: Not connected to a TPU runtime; please see the first cell in this notebook for instructions!')\n",
    "else:\n",
    "  tpu_address = 'grpc://' + os.environ['COLAB_TPU_ADDR']\n",
    "  print ('TPU address is', tpu_address)\n",
    "\n",
    "  with tf.Session(tpu_address) as session:\n",
    "    devices = session.list_devices()\n",
    "    \n",
    "  print('TPU devices:')\n",
    "  pprint.pprint(devices)"
   ]
  }
 ],
 "metadata": {
  "accelerator": "TPU",
  "colab": {
   "collapsed_sections": [],
   "include_colab_link": true,
   "name": "my_colab.ipynb",
   "provenance": [],
   "version": "0.3.2"
  },
  "kernelspec": {
   "display_name": "Python 3",
   "language": "python",
   "name": "python3"
  },
  "language_info": {
   "codemirror_mode": {
    "name": "ipython",
    "version": 3
   },
   "file_extension": ".py",
   "mimetype": "text/x-python",
   "name": "python",
   "nbconvert_exporter": "python",
   "pygments_lexer": "ipython3",
   "version": "3.6.7"
  }
 },
 "nbformat": 4,
 "nbformat_minor": 1
}
