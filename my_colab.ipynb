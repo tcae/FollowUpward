{
 "cells": [
  {
   "cell_type": "markdown",
   "metadata": {
    "colab_type": "text",
    "id": "view-in-github"
   },
   "source": [
    "<a href=\"https://colab.research.google.com/github/tcae/FollowUpward/blob/master/my_colab.ipynb\" target=\"_parent\"><img src=\"https://colab.research.google.com/assets/colab-badge.svg\" alt=\"Open In Colab\"/></a>"
   ]
  },
  {
   "cell_type": "code",
   "execution_count": null,
   "metadata": {
    "colab": {
     "base_uri": "https://localhost:8080/",
     "height": 2645
    },
    "colab_type": "code",
    "id": "3TCS1qoRvt_D",
    "outputId": "616b4854-b774-4da2-cff6-2fa94cad19bf"
   },
   "outputs": [],
   "source": [
    "%cd /content/FollowUpward\n",
    "import cpc_classifier as cpc\n",
    "cpc.execute()"
   ]
  },
  {
   "cell_type": "code",
   "execution_count": null,
   "metadata": {
    "colab": {
     "base_uri": "https://localhost:8080/",
     "height": 204
    },
    "colab_type": "code",
    "id": "yZYewdL0m2qT",
    "outputId": "77d13337-9ccf-4b37-8955-d9b171ef2784"
   },
   "outputs": [],
   "source": [
    "%cd /content\n",
    "!pwd\n",
    "!rm -R FollowUpward\n",
    "!git clone https://github.com/tcae/FollowUpward.git\n",
    "%cd /content/FollowUpward"
   ]
  },
  {
   "cell_type": "code",
   "execution_count": null,
   "metadata": {
    "colab": {
     "base_uri": "https://localhost:8080/"
    },
    "colab_type": "code",
    "id": "kqU8Fr7bnA0e",
    "outputId": "57f27b2a-4ac1-4708-d5c4-20108323d036"
   },
   "outputs": [],
   "source": [
    "%env PYTHONPATH\n"
   ]
  },
  {
   "cell_type": "code",
   "execution_count": null,
   "metadata": {
    "colab": {
     "base_uri": "https://localhost:8080/",
     "height": 34
    },
    "colab_type": "code",
    "id": "6gwbDvUPnH4v",
    "outputId": "bf9ba8bf-5821-410d-efa5-6f8f86179121"
   },
   "outputs": [],
   "source": [
    "%env PYTHONPATH /env/python:/content/FollowUpward\n"
   ]
  },
  {
   "cell_type": "code",
   "execution_count": null,
   "metadata": {
    "colab": {
     "base_uri": "https://localhost:8080/",
     "height": 238
    },
    "colab_type": "code",
    "id": "u0Y7CZs8nYcL",
    "outputId": "fec5b53c-270f-4667-dab7-97a4895b0ff2"
   },
   "outputs": [],
   "source": [
    "!ls /content -lR\n",
    "\n",
    "!pwd"
   ]
  },
  {
   "cell_type": "code",
   "execution_count": null,
   "metadata": {
    "colab": {
     "base_uri": "https://localhost:8080/",
     "height": 122
    },
    "colab_type": "code",
    "id": "Dbn0dt8_tfqG",
    "outputId": "38deb556-c9f4-4582-d7b8-1e60163abbb1"
   },
   "outputs": [],
   "source": [
    "from google.colab import drive\n",
    "drive.mount('/content/gdrive')"
   ]
  },
  {
   "cell_type": "code",
   "execution_count": null,
   "metadata": {
    "colab": {},
    "colab_type": "code",
    "id": "RaH9HaKI1P78"
   },
   "outputs": [],
   "source": []
  },
  {
   "cell_type": "markdown",
   "metadata": {
    "colab_type": "text",
    "id": "_pQCOmISAQBu"
   },
   "source": [
    "# Testing out the TPU connection\n",
    "\n",
    "First, you'll need to enable TPUs for the notebook.\n",
    "\n",
    "Navigate to Edit→Notebook Settings, and select TPU from the Hardware Accelerator drop-down (you can also access Notebook Settings via the command palette: cmd/ctrl-shift-P).\n",
    "\n",
    "Next, we'll check that we can connect to the TPU.\n",
    "If the cell below reports an error, make sure that you have enabled TPU support in the notebook settings. (Edit menu → Notebook settings)"
   ]
  },
  {
   "cell_type": "code",
   "execution_count": null,
   "metadata": {
    "colab": {
     "base_uri": "https://localhost:8080/",
     "height": 238
    },
    "colab_type": "code",
    "id": "71iSWtsXe36x",
    "outputId": "b0642cb7-9150-4d43-8b9c-3c1a412b1cd3"
   },
   "outputs": [],
   "source": [
    "import os\n",
    "import pprint\n",
    "import tensorflow as tf\n",
    "\n",
    "if 'COLAB_TPU_ADDR' not in os.environ:\n",
    "  print('ERROR: Not connected to a TPU runtime; please see the first cell in this notebook for instructions!')\n",
    "else:\n",
    "  tpu_address = 'grpc://' + os.environ['COLAB_TPU_ADDR']\n",
    "  print ('TPU address is', tpu_address)\n",
    "\n",
    "  with tf.Session(tpu_address) as session:\n",
    "    devices = session.list_devices()\n",
    "    \n",
    "  print('TPU devices:')\n",
    "  pprint.pprint(devices)"
   ]
  }
 ],
 "metadata": {
  "accelerator": "TPU",
  "colab": {
   "collapsed_sections": [],
   "include_colab_link": true,
   "name": "my_colab.ipynb",
   "provenance": [],
   "version": "0.3.2"
  },
  "kernelspec": {
   "display_name": "Python 3",
   "language": "python",
   "name": "python3"
  },
  "language_info": {
   "codemirror_mode": {
    "name": "ipython",
    "version": 3
   },
   "file_extension": ".py",
   "mimetype": "text/x-python",
   "name": "python",
   "nbconvert_exporter": "python",
   "pygments_lexer": "ipython3",
   "version": "3.6.8"
  }
 },
 "nbformat": 4,
 "nbformat_minor": 1
}
